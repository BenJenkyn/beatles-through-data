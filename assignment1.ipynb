{
 "cells": [
  {
   "cell_type": "markdown",
   "metadata": {},
   "source": [
    "# The Rise and Fall of The Beatles Through Song\n",
    "**Benjamin Jenkyn 100622689**"
   ]
  },
  {
   "cell_type": "markdown",
   "metadata": {},
   "source": [
    "## Can the breakup of the Beatles be seen through their songs?\n",
    "The goal of this project is to take a look at the songs of the Beatles and see if and how the key events in the band's history can be seen through their songs. (etc. etc.)"
   ]
  },
  {
   "cell_type": "code",
   "execution_count": 77,
   "metadata": {},
   "outputs": [],
   "source": [
    "import pandas as pd\n",
    "import numpy as np\n",
    "import seaborn as sns\n",
    "import matplotlib.pyplot as plt\n",
    "\n",
    "beatles_songs = pd.read_csv('./beatles_song_database.csv')"
   ]
  },
  {
   "cell_type": "markdown",
   "metadata": {},
   "source": [
    "## Data Cleanup\n",
    "This Section is mainly cleaning up the data from the CSV file as the datatypes were not correct or the data was not in the correct format."
   ]
  },
  {
   "cell_type": "code",
   "execution_count": 78,
   "metadata": {},
   "outputs": [],
   "source": [
    "# Many of the columns in the dataframe were imported as strings due to how they were written in the CSV file. Here I am converting them to the correct data types.\n",
    "\n",
    "# Prompt: \"beatles_songs[\"Moods\"] contains a series of strings. How can I split the string into an array of strings?\"\n",
    "beatles_songs[\"Moods\"] = beatles_songs[\"Moods\"].str.split()\n",
    "beatles_songs[\"Genre\"] = beatles_songs[\"Genre\"].str.split(', ')\n",
    "beatles_songs = beatles_songs[beatles_songs[\"Year\"].notna()]\n",
    "# Prompt: right now the \"Year\" series is a list of strings. I want to be able to convert it to a list of ints and remove the strings which cannot be changed into ints\n",
    "beatles_songs[\"Year\"] = pd.to_numeric(beatles_songs[\"Year\"], errors='coerce').dropna().astype(\"Int16\")\n",
    "# The values in the \"Cover\" column were either \"Y\" or NaN which is messy so I replaced them with boolean values\n",
    "beatles_songs[\"Cover\"] = beatles_songs[\"Cover\"].replace(np.nan, False).replace(\"Y\", True)"
   ]
  },
  {
   "cell_type": "markdown",
   "metadata": {},
   "source": [
    "## The Early Years (1956-1962)\n",
    "![The Beatles With Pete Best](https://www.irishtimes.com/resizer/v2/ZRIFUMPMOWGRLMEXM5VENYWZF4.jpg?auth=f561ac019a9114abd31afe8f8971972953fbdf8ed666ccaadca2b7f1ab553473&smart=true&width=480&height=270)\n",
    "[source](https://www.irishtimes.com/culture/music/there-s-nothing-to-forgive-pete-best-on-being-sacked-from-the-beatles-1.4199732)\n",
    "\n",
    "During the early years of the band when they were just getting started\n",
    "- Mainly did covers\n",
    "- Still trying to find their sound\n",
    "- Ringo didn't join until 1962\n",
    "- 1963 was the year they released their first album and beatlemania began"
   ]
  },
  {
   "cell_type": "code",
   "execution_count": null,
   "metadata": {},
   "outputs": [
    {
     "data": {
      "text/html": [
       "<div>\n",
       "<style scoped>\n",
       "    .dataframe tbody tr th:only-of-type {\n",
       "        vertical-align: middle;\n",
       "    }\n",
       "\n",
       "    .dataframe tbody tr th {\n",
       "        vertical-align: top;\n",
       "    }\n",
       "\n",
       "    .dataframe thead th {\n",
       "        text-align: right;\n",
       "    }\n",
       "</style>\n",
       "<table border=\"1\" class=\"dataframe\">\n",
       "  <thead>\n",
       "    <tr style=\"text-align: right;\">\n",
       "      <th></th>\n",
       "      <th>Cover Songs</th>\n",
       "      <th>Songs</th>\n",
       "      <th>Percentage Of Cover Songs Per Year</th>\n",
       "    </tr>\n",
       "    <tr>\n",
       "      <th>Year</th>\n",
       "      <th></th>\n",
       "      <th></th>\n",
       "      <th></th>\n",
       "    </tr>\n",
       "  </thead>\n",
       "  <tbody>\n",
       "    <tr>\n",
       "      <th>1958</th>\n",
       "      <td>1</td>\n",
       "      <td>2</td>\n",
       "      <td>50.0</td>\n",
       "    </tr>\n",
       "    <tr>\n",
       "      <th>1960</th>\n",
       "      <td>0</td>\n",
       "      <td>3</td>\n",
       "      <td>0.0</td>\n",
       "    </tr>\n",
       "    <tr>\n",
       "      <th>1961</th>\n",
       "      <td>1</td>\n",
       "      <td>3</td>\n",
       "      <td>33.3</td>\n",
       "    </tr>\n",
       "    <tr>\n",
       "      <th>1962</th>\n",
       "      <td>3</td>\n",
       "      <td>9</td>\n",
       "      <td>33.3</td>\n",
       "    </tr>\n",
       "    <tr>\n",
       "      <th>1963</th>\n",
       "      <td>41</td>\n",
       "      <td>61</td>\n",
       "      <td>67.2</td>\n",
       "    </tr>\n",
       "    <tr>\n",
       "      <th>1964</th>\n",
       "      <td>13</td>\n",
       "      <td>38</td>\n",
       "      <td>34.2</td>\n",
       "    </tr>\n",
       "    <tr>\n",
       "      <th>1965</th>\n",
       "      <td>3</td>\n",
       "      <td>36</td>\n",
       "      <td>8.3</td>\n",
       "    </tr>\n",
       "    <tr>\n",
       "      <th>1966</th>\n",
       "      <td>0</td>\n",
       "      <td>19</td>\n",
       "      <td>0.0</td>\n",
       "    </tr>\n",
       "    <tr>\n",
       "      <th>1967</th>\n",
       "      <td>0</td>\n",
       "      <td>25</td>\n",
       "      <td>0.0</td>\n",
       "    </tr>\n",
       "    <tr>\n",
       "      <th>1968</th>\n",
       "      <td>0</td>\n",
       "      <td>42</td>\n",
       "      <td>0.0</td>\n",
       "    </tr>\n",
       "    <tr>\n",
       "      <th>1969</th>\n",
       "      <td>2</td>\n",
       "      <td>36</td>\n",
       "      <td>5.6</td>\n",
       "    </tr>\n",
       "    <tr>\n",
       "      <th>1970</th>\n",
       "      <td>0</td>\n",
       "      <td>1</td>\n",
       "      <td>0.0</td>\n",
       "    </tr>\n",
       "  </tbody>\n",
       "</table>\n",
       "</div>"
      ],
      "text/plain": [
       "      Cover Songs  Songs  Percentage Of Cover Songs Per Year\n",
       "Year                                                        \n",
       "1958            1      2                                50.0\n",
       "1960            0      3                                 0.0\n",
       "1961            1      3                                33.3\n",
       "1962            3      9                                33.3\n",
       "1963           41     61                                67.2\n",
       "1964           13     38                                34.2\n",
       "1965            3     36                                 8.3\n",
       "1966            0     19                                 0.0\n",
       "1967            0     25                                 0.0\n",
       "1968            0     42                                 0.0\n",
       "1969            2     36                                 5.6\n",
       "1970            0      1                                 0.0"
      ]
     },
     "execution_count": 79,
     "metadata": {},
     "output_type": "execute_result"
    }
   ],
   "source": [
    "beatles_songs_year_groupby = beatles_songs.groupby(\"Year\")\n",
    "cover_songs_per_year = beatles_songs_year_groupby[\"Cover\"].sum()\n",
    "songs_per_year = beatles_songs_year_groupby[\"Title\"].count()\n",
    "cover_songs_per_year = cover_songs_per_year.rename(\"Cover Songs\")\n",
    "songs_per_year = songs_per_year.rename(\"Songs\")\n",
    "percentage_cover_songs_per_year = np.round(cover_songs_per_year / songs_per_year * 100, 1)\n",
    "percentage_cover_songs_per_year.name = \"Percentage Of Cover Songs Per Year\"\n",
    "cover_songs_data = pd.concat([cover_songs_per_year, songs_per_year, percentage_cover_songs_per_year], axis=1)\n",
    "cover_songs_data"
   ]
  },
  {
   "cell_type": "code",
   "execution_count": 91,
   "metadata": {},
   "outputs": [
    {
     "name": "stderr",
     "output_type": "stream",
     "text": [
      "/var/folders/c2/pz90dsn53hzb8fnld7dh2pcw0000gn/T/ipykernel_12768/452385637.py:6: UserWarning: set_ticklabels() should only be used with a fixed number of ticks, i.e. after set_ticks() or using a FixedLocator.\n",
      "  cover_songs_barplot.set_yticklabels([f\"{int(y)}%\" for y in cover_songs_barplot.get_yticks()])\n"
     ]
    },
    {
     "data": {
      "text/plain": [
       "<Axes: title={'center': 'Percentage Songs That Are Covers Over Time'}, xlabel='Year', ylabel='Percentage'>"
      ]
     },
     "execution_count": 91,
     "metadata": {},
     "output_type": "execute_result"
    },
    {
     "data": {
      "image/png": "[encoded data removed]",
      "text/plain": [
       "<Figure size 640x480 with 1 Axes>"
      ]
     },
     "metadata": {},
     "output_type": "display_data"
    }
   ],
   "source": [
    "cover_songs_barplot = sns.barplot(x=cover_songs_data.index, y=cover_songs_data[\"Percentage Of Cover Songs Per Year\"])\n",
    "cover_songs_barplot.set(ylim=(0, 100))\n",
    "cover_songs_barplot.set_ylabel(\"Percentage\")\n",
    "plt.xticks(ticks=range(len(cover_songs_data.index)), labels=cover_songs_data.index, rotation=45)\n",
    "# Prompt: Set the y ticks to percentages\n",
    "cover_songs_barplot.set_yticklabels([f\"{int(y)}%\" for y in cover_songs_barplot.get_yticks()])\n",
    "plt.text(4, 70, \"First Album Released\", ha='left', va='bottom', fontsize=14, color='green', rotation=20)\n",
    "plt.text(7, 0, \"Live Shows Stop\", ha='left', va='bottom', fontsize=14, color='green', rotation=20)\n",
    "plt.title(\"Percentage Songs That Are Covers Over Time\")\n",
    "cover_songs_barplot"
   ]
  },
  {
   "cell_type": "markdown",
   "metadata": {},
   "source": [
    "### The Early Years End\n",
    "The early years mainly saw the beatles doing live shows of cover songs and trying to find their sound. The end of the early years can be seen through the release of their first album \"Please Please Me\" in 1963. This album was the start of the beatlemania that would follow the band for the rest of their career. After the first album was released you can see the band start to write more of their own songs and start to find their own sound."
   ]
  },
  {
   "cell_type": "markdown",
   "metadata": {},
   "source": [
    "## Beatlemania (1963-1966)\n",
    "<a title=\"United Press International, photographer unknown, Public domain, via Wikimedia Commons\" href=\"https://commons.wikimedia.org/wiki/File:The_Beatles_arrive_at_JFK_Airport.jpg\"><img width=\"512\" alt=\"The Beatles wave to fans after disembarking a plane at Kennedy Airport.\" src=\"https://upload.wikimedia.org/wikipedia/commons/thumb/6/61/The_Beatles_arrive_at_JFK_Airport.jpg/512px-The_Beatles_arrive_at_JFK_Airport.jpg?20240427190833\"></a>\n",
    "<a href=\"https://commons.wikimedia.org/wiki/File:The_Beatles_arrive_at_JFK_Airport.jpg\">United Press International, photographer unknown</a>, Public domain, via Wikimedia Commons\n",
    "\n",
    "- Beatlemania was in full swing\n",
    "- The Beatles were releasing albums and singles at a rapid pace\n",
    "- The Beatles were touring the world\n",
    "- In 1966 the Beatles stopped touring due to the stress and the fact that they couldn't hear themselves play over the screaming fans"
   ]
  },
  {
   "cell_type": "code",
   "execution_count": 92,
   "metadata": {},
   "outputs": [
    {
     "data": {
      "text/plain": [
       "Year  Songwriter(s)                                                                        \n",
       "1958  McCartney and Harrison                                                                    1\n",
       "1960  Lennon and McCartney                                                                      1\n",
       "      McCartney                                                                                 1\n",
       "1961  Traditional, arr. Sheridan                                                                1\n",
       "      Lennon and Harrison                                                                       1\n",
       "1962  Lennon                                                                                    2\n",
       "      McCartney, with Lennon                                                                    2\n",
       "      McCartney                                                                                 1\n",
       "      Lennon, with McCartney                                                                    1\n",
       "1963  Lennon and McCartney                                                                      7\n",
       "      Lennon                                                                                    4\n",
       "      McCartney, with Lennon                                                                    3\n",
       "      Lennon, with McCartney                                                                    2\n",
       "      McCartney                                                                                 2\n",
       "      Percy Wenrich, Edward Madden                                                              1\n",
       "      Harrison                                                                                  1\n",
       "1964  Lennon                                                                                   12\n",
       "      McCartney                                                                                 6\n",
       "      Lennon, with McCartney                                                                    2\n",
       "      Lennon and McCartney                                                                      2\n",
       "      McCartney, with Lennon                                                                    2\n",
       "      Harrison                                                                                  1\n",
       "1965  McCartney                                                                                 8\n",
       "      Lennon                                                                                    7\n",
       "      McCartney, with Lennon                                                                    5\n",
       "      Harrison                                                                                  4\n",
       "      Lennon, with McCartney                                                                    4\n",
       "      Lennon and McCartney                                                                      3\n",
       "      Lennon, McCartney, Harrison and Starkey                                                   1\n",
       "      Lennon and McCartney, with Starkey                                                        1\n",
       "1966  McCartney                                                                                 9\n",
       "      Lennon                                                                                    5\n",
       "      Harrison                                                                                  2\n",
       "      Lennon, with McCartney                                                                    2\n",
       "      Harrison, with uncredited contribution from Lennon                                        1\n",
       "1967  McCartney                                                                                 7\n",
       "      Harrison                                                                                  4\n",
       "      McCartney, with Lennon                                                                    4\n",
       "      Lennon and McCartney                                                                      3\n",
       "      Lennon                                                                                    3\n",
       "      Lennon, with McCartney                                                                    2\n",
       "      Lennon, McCartney, Harrison and Starkey                                                   1\n",
       "      Lennon with McCartney                                                                     1\n",
       "1968  Lennon                                                                                   16\n",
       "      McCartney                                                                                12\n",
       "      Harrison                                                                                  8\n",
       "      McCartney, with Lennon                                                                    3\n",
       "      Lennon, with Ono and Harrison                                                             1\n",
       "      Starkey                                                                                   1\n",
       "      McCartney (Step Inside Love); Lennon, McCartney, Harrison and Starkey (Los Paranoias)     1\n",
       "1969  McCartney                                                                                15\n",
       "      Lennon                                                                                   10\n",
       "      Harrison                                                                                  5\n",
       "      Lennon, with McCartney, Harrison and Starkey                                              1\n",
       "      McCartney, with Lennon                                                                    1\n",
       "      Row, Katz, Roberts, Clayton                                                               1\n",
       "      Starkey, with uncredited assistance from Harrison                                         1\n",
       "1970  Harrison                                                                                  1\n",
       "Name: count, dtype: int64"
      ]
     },
     "execution_count": 92,
     "metadata": {},
     "output_type": "execute_result"
    }
   ],
   "source": [
    "# original_beatles_songs = beatles_songs[beatles_songs[\"Cover\"] == False][\"Songwriter(s)\"]\n",
    "original_beatles_songs = beatles_songs[beatles_songs[\"Cover\"] == False]\n",
    "# original_beatles_songs.groupby(\"Songwriter(s)\")[\"Year\"].mean()\n",
    "original_beatles_songs[[\"Title\", \"Songwriter(s)\", \"Year\"]]\n",
    "beatles_songs_year_groupby[\"Songwriter(s)\"].value_counts()\n",
    "# Prompt: \"Display the songwriters by year where the value of Cover for the row is equal to false\"\n",
    "songwriters_by_year = original_beatles_songs.groupby(\"Year\")[\"Songwriter(s)\"].value_counts()\n",
    "\n",
    "songwriters_by_year"
   ]
  },
  {
   "cell_type": "markdown",
   "metadata": {},
   "source": [
    "## The Studio Years (1967-1970)\n",
    "![The image shows Sgt. Pepper's inner gatefold photograph.](https://upload.wikimedia.org/wikipedia/en/4/44/Sgtpeppergatefold.jpg)\n",
    "[source](https://en.wikipedia.org/wiki/File:Sgtpeppergatefold.jpg)\n",
    "\n",
    "- The Beatles stopped touring and focused on the studio\n",
    "- They released some of their most famous albums during this time\n",
    "- The band was starting to fall apart\n",
    "- The band released their final album in 1970\n",
    "- The band broke up in 1970"
   ]
  },
  {
   "cell_type": "code",
   "execution_count": 93,
   "metadata": {},
   "outputs": [
    {
     "data": {
      "text/plain": [
       "Year  Genre            \n",
       "1958  Rock and Roll         2\n",
       "      Pop/Rock              2\n",
       "      Blues                 1\n",
       "      Skiffle               1\n",
       "      Rockabilly            1\n",
       "1960  Pop/Rock              2\n",
       "      R&B                   1\n",
       "      Instrumental Rock     1\n",
       "      Experimental          1\n",
       "1961  Pop/Rock              3\n",
       "      Rock and Roll         1\n",
       "      Instrumental Rock     1\n",
       "1962  Pop/Rock              9\n",
       "      Merseybeat            5\n",
       "      R&B                   2\n",
       "      Rock and Roll         2\n",
       "      Rock                  1\n",
       "1963  Pop/Rock             61\n",
       "      Rock and Roll        19\n",
       "      R&B                   7\n",
       "      Rock                  5\n",
       "      Merseybeat            4\n",
       "1964  Pop/Rock             38\n",
       "      Rock and Roll        13\n",
       "      Rock                  8\n",
       "      Folk Rock             5\n",
       "      Country               4\n",
       "1965  Pop/Rock             32\n",
       "      Folk Rock            10\n",
       "      Rock                  8\n",
       "      Country               3\n",
       "      Rock and Roll         3\n",
       "1966  Pop/Rock             18\n",
       "      Psychedelic Rock     10\n",
       "      Baroque Pop           3\n",
       "      Hard Rock             3\n",
       "      Power Pop             3\n",
       "1967  Pop/Rock             25\n",
       "      Psychedelic Rock     13\n",
       "      Hard Rock             3\n",
       "      Experimental Rock     3\n",
       "      Baroque Pop           3\n",
       "1968  Pop/Rock             42\n",
       "      Hard Rock             8\n",
       "      Folk                  6\n",
       "      Psychedelic Rock      5\n",
       "      Rock                  4\n",
       "1969  Pop/Rock             36\n",
       "      Rock                  8\n",
       "      Blues Rock            7\n",
       "      Folk Rock             3\n",
       "      Hard Rock             3\n",
       "1970  Hard Rock             1\n",
       "      Folk blues            1\n",
       "      Pop/Rock              1\n",
       "Name: count, dtype: int64"
      ]
     },
     "execution_count": 93,
     "metadata": {},
     "output_type": "execute_result"
    }
   ],
   "source": [
    "# moods_by_year = beatles_songs.explode(\"Moods\").groupby(\"Moods\")[\"Year\"]\n",
    "moods_by_year = beatles_songs.explode(\"Genre\").groupby(\"Year\")[\"Genre\"]\n",
    "top_3_moods_per_year = moods_by_year.value_counts().groupby(level=0).head(5)\n",
    "# moods_by_year.size()\n",
    "top_3_moods_per_year"
   ]
  },
  {
   "cell_type": "markdown",
   "metadata": {},
   "source": [
    "## References\n",
    "\n",
    "### CSV File Source\n",
    "- https://www.kaggle.com/datasets/devedzic/the-beatles-songs-\n",
    "\n",
    "### Beatles Data Sources\n",
    "- https://faroutmagazine.co.uk/timeline-of-the-beatles-split/\n",
    "- https://www.historic-newspapers.co.uk/blog/beatles-timeline/\n",
    "- https://thehistoryofrockandroll.net/the-beatles/"
   ]
  }
 ],
 "metadata": {
  "kernelspec": {
   "display_name": "Python 3",
   "language": "python",
   "name": "python3"
  },
  "language_info": {
   "codemirror_mode": {
    "name": "ipython",
    "version": 3
   },
   "file_extension": ".py",
   "mimetype": "text/x-python",
   "name": "python",
   "nbconvert_exporter": "python",
   "pygments_lexer": "ipython3",
   "version": "3.10.1"
  }
 },
 "nbformat": 4,
 "nbformat_minor": 2
}
