{
 "cells": [
  {
   "cell_type": "markdown",
   "metadata": {},
   "source": [
    "# The Rise and Fall of The Beatles Through Song\n",
    "**Benjamin Jenkyn 100622689**"
   ]
  },
  {
   "cell_type": "markdown",
   "metadata": {},
   "source": [
    "## Can the breakup of the Beatles be seen through their songs?\n",
    "The goal of this project is to take a look at the songs of the Beatles and see if and how the key events in the band's history can be seen through their songs. (etc. etc.)"
   ]
  },
  {
   "cell_type": "code",
   "execution_count": 29,
   "metadata": {},
   "outputs": [],
   "source": [
    "import pandas as pd\n",
    "\n",
    "beatles_songs = pd.read_csv('./beatles_song_database.csv')"
   ]
  },
  {
   "cell_type": "code",
   "execution_count": null,
   "metadata": {},
   "outputs": [
    {
     "data": {
      "text/plain": [
       "0                                                    NaN\n",
       "1                                           [Passionate]\n",
       "2                                                    NaN\n",
       "3      [Ambitious, Complex, Dramatic, Dreamy, Eerie, ...\n",
       "4      [Carefree, Cheerful, Explosive, Marching, Opti...\n",
       "                             ...                        \n",
       "280    [Bravado, Bright, Swaggering, Rollicking, Orga...\n",
       "281    [Angst-Ridden, Autumnal, Melancholy, Passionat...\n",
       "282    [Earnest, Passionate, Poignant, Rousing, Yearn...\n",
       "283    [Amiable/Good-Natured, Bright, Fun, Bravado, E...\n",
       "284    [Carefree, Nostalgic, Playful, Precious, Quirk...\n",
       "Name: Moods, Length: 285, dtype: object"
      ]
     },
     "execution_count": 30,
     "metadata": {},
     "output_type": "execute_result"
    }
   ],
   "source": [
    "# The moods were stored as strings in the csv file, so I split them into a list of strings for ease of use\n",
    "# Used the prompt \"beatles_songs[\"Moods\"] contains a series of strings. How can I split the string into an array of strings?\"\n",
    "beatles_songs[\"Moods\"] = beatles_songs[\"Moods\"].str.split()"
   ]
  },
  {
   "cell_type": "markdown",
   "metadata": {},
   "source": [
    "## References\n",
    "\n",
    "### CSV File Source\n",
    "- https://www.kaggle.com/datasets/devedzic/the-beatles-songs-\n",
    "\n",
    "### Beatles Data Sources\n",
    "- https://faroutmagazine.co.uk/timeline-of-the-beatles-split/"
   ]
  }
 ],
 "metadata": {
  "kernelspec": {
   "display_name": "Python 3",
   "language": "python",
   "name": "python3"
  },
  "language_info": {
   "codemirror_mode": {
    "name": "ipython",
    "version": 3
   },
   "file_extension": ".py",
   "mimetype": "text/x-python",
   "name": "python",
   "nbconvert_exporter": "python",
   "pygments_lexer": "ipython3",
   "version": "3.10.1"
  }
 },
 "nbformat": 4,
 "nbformat_minor": 2
}
